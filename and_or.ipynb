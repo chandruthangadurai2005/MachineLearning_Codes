{
 "cells": [
  {
   "cell_type": "code",
   "execution_count": 1,
   "id": "7c8b7739",
   "metadata": {},
   "outputs": [
    {
     "name": "stdout",
     "output_type": "stream",
     "text": [
      "\n",
      "AND Gate:\n",
      "[0 0] => 0\n",
      "[0 1] => 0\n",
      "[1 0] => 0\n",
      "[1 1] => 1\n",
      "\n",
      "OR Gate:\n",
      "[0 0] => 0\n",
      "[0 1] => 1\n",
      "[1 0] => 1\n",
      "[1 1] => 1\n"
     ]
    }
   ],
   "source": [
    "import numpy as np\n",
    "\n",
    "class Perceptron:\n",
    "    def __init__(self, input_size, lr=0.1, epochs=10):\n",
    "        self.lr = lr\n",
    "        self.epochs = epochs\n",
    "        self.weights = np.zeros(input_size + 1)  # +1 for bias\n",
    "\n",
    "    def activation(self, x):\n",
    "        return 1 if x >= 0 else 0\n",
    "\n",
    "    def predict(self, x):\n",
    "        x = np.insert(x, 0, 1)  # add bias\n",
    "        return self.activation(np.dot(self.weights, x))\n",
    "\n",
    "    def train(self, X, y):\n",
    "        for _ in range(self.epochs):\n",
    "            for xi, target in zip(X, y):\n",
    "                xi = np.insert(xi, 0, 1)\n",
    "                pred = self.predict(xi[1:])\n",
    "                self.weights += self.lr * (target - pred) * xi\n",
    "\n",
    "# Binary Inputs: AND\n",
    "print(\"\\nAND Gate:\")\n",
    "X = np.array([[0, 0], [0, 1], [1, 0], [1, 1]])\n",
    "y_and = np.array([0, 0, 0, 1])\n",
    "and_model = Perceptron(2)\n",
    "and_model.train(X, y_and)\n",
    "for x in X:\n",
    "    print(f\"{x} => {and_model.predict(x)}\")\n",
    "\n",
    "# OR Gate\n",
    "print(\"\\nOR Gate:\")\n",
    "y_or = np.array([0, 1, 1, 1])\n",
    "or_model = Perceptron(2)\n",
    "or_model.train(X, y_or)\n",
    "for x in X:\n",
    "    print(f\"{x} => {or_model.predict(x)}\")\n"
   ]
  }
 ],
 "metadata": {
  "kernelspec": {
   "display_name": ".venv",
   "language": "python",
   "name": "python3"
  },
  "language_info": {
   "codemirror_mode": {
    "name": "ipython",
    "version": 3
   },
   "file_extension": ".py",
   "mimetype": "text/x-python",
   "name": "python",
   "nbconvert_exporter": "python",
   "pygments_lexer": "ipython3",
   "version": "3.12.6"
  }
 },
 "nbformat": 4,
 "nbformat_minor": 5
}
