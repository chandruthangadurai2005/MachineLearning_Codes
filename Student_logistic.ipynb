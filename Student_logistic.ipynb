{
 "cells": [
  {
   "cell_type": "code",
   "execution_count": 3,
   "id": "8a9c03b6",
   "metadata": {},
   "outputs": [
    {
     "name": "stdout",
     "output_type": "stream",
     "text": [
      "\n",
      "--- Lasso Regression ---\n",
      "R² Score: 0.9939611359330989\n",
      "MSE: 3.4783857025350784\n",
      "Predicted Pass/Fail (Threshold = 50): ['Fail ❌', 'Pass ✅']\n",
      "\n",
      "--- Ridge Regression ---\n",
      "R² Score: 0.9940558005124304\n",
      "MSE: 3.4238589048401296\n",
      "Predicted Pass/Fail (Threshold = 50): ['Fail ❌', 'Pass ✅']\n",
      "\n",
      "--- ElasticNet Regression ---\n",
      "R² Score: 0.994264431939008\n",
      "MSE: 3.303687203131349\n",
      "Predicted Pass/Fail (Threshold = 50): ['Fail ❌', 'Pass ✅']\n",
      "\n",
      "--- Predict Final Score for New Student ---\n"
     ]
    },
    {
     "name": "stderr",
     "output_type": "stream",
     "text": [
      "e:\\ML Programs\\.venv\\Lib\\site-packages\\sklearn\\linear_model\\_coordinate_descent.py:695: ConvergenceWarning: Objective did not converge. You might want to increase the number of iterations, check the scale of the features or consider increasing regularisation. Duality gap: 5.860e-01, tolerance: 5.751e-01\n",
      "  model = cd_fast.enet_coordinate_descent(\n"
     ]
    },
    {
     "name": "stdout",
     "output_type": "stream",
     "text": [
      "\n",
      "Predicted Final Score using Lasso: 84.35 → Pass ✅\n",
      "Predicted Final Score using Ridge: 83.26 → Pass ✅\n",
      "Predicted Final Score using ElasticNet: 83.15 → Pass ✅\n"
     ]
    },
    {
     "name": "stderr",
     "output_type": "stream",
     "text": [
      "e:\\ML Programs\\.venv\\Lib\\site-packages\\sklearn\\utils\\validation.py:2749: UserWarning: X does not have valid feature names, but Lasso was fitted with feature names\n",
      "  warnings.warn(\n",
      "e:\\ML Programs\\.venv\\Lib\\site-packages\\sklearn\\utils\\validation.py:2749: UserWarning: X does not have valid feature names, but Ridge was fitted with feature names\n",
      "  warnings.warn(\n",
      "e:\\ML Programs\\.venv\\Lib\\site-packages\\sklearn\\utils\\validation.py:2749: UserWarning: X does not have valid feature names, but ElasticNet was fitted with feature names\n",
      "  warnings.warn(\n"
     ]
    }
   ],
   "source": [
    "import numpy as np\n",
    "import pandas as pd\n",
    "from sklearn.model_selection import train_test_split\n",
    "from sklearn.linear_model import Lasso, Ridge, ElasticNet\n",
    "from sklearn.metrics import mean_squared_error, r2_score\n",
    "\n",
    "# Sample dataset with scores in 5 subjects and a target 'FinalScore'\n",
    "data = {\n",
    "    'Maths':    [35, 70, 50, 90, 40, 20, 60, 85, 30, 95],\n",
    "    'Science':  [40, 80, 55, 95, 38, 25, 70, 88, 35, 98],\n",
    "    'English':  [30, 75, 48, 92, 45, 28, 68, 89, 33, 96],\n",
    "    'History':  [25, 65, 42, 88, 36, 22, 60, 84, 30, 90],\n",
    "    'CS':       [50, 90, 60, 98, 42, 18, 75, 92, 40, 99],\n",
    "    'FinalScore': [36, 82, 55, 94, 40, 23, 69, 89, 34, 97]  # Target: total score / final score\n",
    "}\n",
    "\n",
    "# Create DataFrame\n",
    "df = pd.DataFrame(data)\n",
    "\n",
    "# Features and Target\n",
    "X = df.drop('FinalScore', axis=1)\n",
    "y = df['FinalScore']\n",
    "\n",
    "# Split data\n",
    "X_train, X_test, y_train, y_test = train_test_split(X, y, test_size=0.2, random_state=42)\n",
    "\n",
    "# Lasso Regression (L1)\n",
    "lasso = Lasso(alpha=0.1)\n",
    "lasso.fit(X_train, y_train)\n",
    "y_lasso_pred = lasso.predict(X_test)\n",
    "\n",
    "# Ridge Regression (L2)\n",
    "ridge = Ridge(alpha=1.0)\n",
    "ridge.fit(X_train, y_train)\n",
    "y_ridge_pred = ridge.predict(X_test)\n",
    "\n",
    "# Elastic Net (L1 + L2)\n",
    "elastic = ElasticNet(alpha=0.1, l1_ratio=0.5)\n",
    "elastic.fit(X_train, y_train)\n",
    "y_elastic_pred = elastic.predict(X_test)\n",
    "\n",
    "# Evaluation Function\n",
    "def evaluate_model(name, y_true, y_pred):\n",
    "    print(f\"\\n--- {name} Regression ---\")\n",
    "    print(\"R² Score:\", r2_score(y_true, y_pred))\n",
    "    print(\"MSE:\", mean_squared_error(y_true, y_pred))\n",
    "    # Convert to pass/fail prediction\n",
    "    print(\"Predicted Pass/Fail (Threshold = 50):\", [\"Pass ✅\" if p >= 50 else \"Fail ❌\" for p in y_pred])\n",
    "\n",
    "# Evaluate all models\n",
    "evaluate_model(\"Lasso\", y_test, y_lasso_pred)\n",
    "evaluate_model(\"Ridge\", y_test, y_ridge_pred)\n",
    "evaluate_model(\"ElasticNet\", y_test, y_elastic_pred)\n",
    "\n",
    "# Predict for a new student\n",
    "print(\"\\n--- Predict Final Score for New Student ---\")\n",
    "maths = float(input(\"Maths: \"))\n",
    "science = float(input(\"Science: \"))\n",
    "english = float(input(\"English: \"))\n",
    "history = float(input(\"History: \"))\n",
    "cs = float(input(\"CS: \"))\n",
    "new_data = np.array([[maths, science, english, history, cs]])\n",
    "\n",
    "# Predict with all models\n",
    "lasso_score = lasso.predict(new_data)[0]\n",
    "ridge_score = ridge.predict(new_data)[0]\n",
    "elastic_score = elastic.predict(new_data)[0]\n",
    "\n",
    "print(f\"\\nPredicted Final Score using Lasso: {lasso_score:.2f} → {'Pass ✅' if lasso_score >= 50 else 'Fail ❌'}\")\n",
    "print(f\"Predicted Final Score using Ridge: {ridge_score:.2f} → {'Pass ✅' if ridge_score >= 50 else 'Fail ❌'}\")\n",
    "print(f\"Predicted Final Score using ElasticNet: {elastic_score:.2f} → {'Pass ✅' if elastic_score >= 50 else 'Fail ❌'}\")\n"
   ]
  },
  {
   "cell_type": "code",
   "execution_count": 2,
   "id": "bcbc158c",
   "metadata": {},
   "outputs": [
    {
     "name": "stdout",
     "output_type": "stream",
     "text": [
      "Accuracy: 1.0\n",
      "Confusion Matrix:\n",
      " [[1 0]\n",
      " [0 1]]\n",
      "Classification Report:\n",
      "               precision    recall  f1-score   support\n",
      "\n",
      "           0       1.00      1.00      1.00         1\n",
      "           1       1.00      1.00      1.00         1\n",
      "\n",
      "    accuracy                           1.00         2\n",
      "   macro avg       1.00      1.00      1.00         2\n",
      "weighted avg       1.00      1.00      1.00         2\n",
      "\n",
      "\n",
      "--- Predict Result for New Student ---\n",
      "Prediction: Pass ✅\n"
     ]
    },
    {
     "name": "stderr",
     "output_type": "stream",
     "text": [
      "e:\\ML Programs\\.venv\\Lib\\site-packages\\sklearn\\utils\\validation.py:2749: UserWarning: X does not have valid feature names, but LogisticRegression was fitted with feature names\n",
      "  warnings.warn(\n"
     ]
    }
   ],
   "source": [
    "import numpy as np\n",
    "import pandas as pd\n",
    "from sklearn.model_selection import train_test_split\n",
    "from sklearn.linear_model import LogisticRegression\n",
    "from sklearn.metrics import accuracy_score, confusion_matrix, classification_report\n",
    "\n",
    "# Sample dataset — each row is a student\n",
    "data = {\n",
    "    'Maths':    [35, 70, 50, 90, 40, 20, 60, 85, 30, 95],\n",
    "    'Science':  [40, 80, 55, 95, 38, 25, 70, 88, 35, 98],\n",
    "    'English':  [30, 75, 48, 92, 45, 28, 68, 89, 33, 96],\n",
    "    'History':  [25, 65, 42, 88, 36, 22, 60, 84, 30, 90],\n",
    "    'CS':       [50, 90, 60, 98, 42, 18, 75, 92, 40, 99],\n",
    "    'Result':   [0, 1, 1, 1, 0, 0, 1, 1, 0, 1]  # 0 = Fail, 1 = Pass\n",
    "}\n",
    "\n",
    "# Create DataFrame\n",
    "df = pd.DataFrame(data)\n",
    "\n",
    "# Features and target\n",
    "X = df.drop('Result', axis=1)\n",
    "y = df['Result']\n",
    "\n",
    "# Split the dataset\n",
    "X_train, X_test, y_train, y_test = train_test_split(X, y, test_size=0.2, random_state=42)\n",
    "\n",
    "# Train the model\n",
    "model = LogisticRegression()\n",
    "model.fit(X_train, y_train)\n",
    "\n",
    "# Evaluate\n",
    "y_pred = model.predict(X_test)\n",
    "print(\"Accuracy:\", accuracy_score(y_test, y_pred))\n",
    "print(\"Confusion Matrix:\\n\", confusion_matrix(y_test, y_pred))\n",
    "print(\"Classification Report:\\n\", classification_report(y_test, y_pred))\n",
    "\n",
    "# Custom Prediction\n",
    "print(\"\\n--- Predict Result for New Student ---\")\n",
    "maths = float(input(\"Enter Maths marks: \"))\n",
    "science = float(input(\"Enter Science marks: \"))\n",
    "english = float(input(\"Enter English marks: \"))\n",
    "history = float(input(\"Enter History marks: \"))\n",
    "cs = float(input(\"Enter CS marks: \"))\n",
    "\n",
    "new_data = np.array([[maths, science, english, history, cs]])\n",
    "prediction = model.predict(new_data)\n",
    "\n",
    "print(\"Prediction:\", \"Pass ✅\" if prediction[0] == 1 else \"Fail ❌\")\n"
   ]
  },
  {
   "cell_type": "code",
   "execution_count": null,
   "id": "d74ead10",
   "metadata": {},
   "outputs": [],
   "source": []
  }
 ],
 "metadata": {
  "kernelspec": {
   "display_name": ".venv",
   "language": "python",
   "name": "python3"
  },
  "language_info": {
   "codemirror_mode": {
    "name": "ipython",
    "version": 3
   },
   "file_extension": ".py",
   "mimetype": "text/x-python",
   "name": "python",
   "nbconvert_exporter": "python",
   "pygments_lexer": "ipython3",
   "version": "3.12.6"
  }
 },
 "nbformat": 4,
 "nbformat_minor": 5
}
