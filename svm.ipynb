{
 "cells": [
  {
   "cell_type": "markdown",
   "id": "56a46734",
   "metadata": {},
   "source": [
    "# SVM on Iris Dataset: Setosa vs Versicolor"
   ]
  },
  {
   "cell_type": "code",
   "execution_count": null,
   "id": "bade6541",
   "metadata": {},
   "outputs": [],
   "source": [
    "import numpy as np\n",
    "import matplotlib.pyplot as plt\n",
    "from sklearn import datasets\n",
    "from sklearn.svm import SVC\n",
    "from sklearn.metrics import accuracy_score, precision_score, recall_score"
   ]
  },
  {
   "cell_type": "code",
   "execution_count": null,
   "id": "6154acfc",
   "metadata": {},
   "outputs": [],
   "source": [
    "# Load and preprocess data\n",
    "iris = datasets.load_iris()\n",
    "X = iris.data[:, :2]\n",
    "y = iris.target\n",
    "mask = y != 2\n",
    "X_sub = X[mask]\n",
    "y_sub = y[mask]\n",
    "y_sub = np.where(y_sub == 0, -1, 1)"
   ]
  },
  {
   "cell_type": "code",
   "execution_count": null,
   "id": "bc8bd0d9",
   "metadata": {},
   "outputs": [],
   "source": [
    "# Define plot function\n",
    "def plot_svm(clf, X, y, title):\n",
    "    plt.figure(figsize=(6,6))\n",
    "    plt.scatter(X[:,0], X[:,1], c=y, cmap='bwr', edgecolors='k')\n",
    "    ax = plt.gca()\n",
    "    xlim = ax.get_xlim()\n",
    "    ylim = ax.get_ylim()\n",
    "    xx, yy = np.meshgrid(np.linspace(xlim[0], xlim[1], 200),\n",
    "                         np.linspace(ylim[0], ylim[1], 200))\n",
    "    Z = clf.decision_function(np.c_[xx.ravel(), yy.ravel()])\n",
    "    Z = Z.reshape(xx.shape)\n",
    "    ax.contour(xx, yy, Z, colors='k', levels=[-1, 0, 1], alpha=0.7,\n",
    "               linestyles=['--', '-', '--'])\n",
    "    ax.scatter(clf.support_vectors_[:, 0], clf.support_vectors_[:, 1],\n",
    "               s=120, facecolors='none', edgecolors='k')\n",
    "    plt.title(title)\n",
    "    plt.xlabel('Sepal Length')\n",
    "    plt.ylabel('Sepal Width')\n",
    "    plt.show()"
   ]
  },
  {
   "cell_type": "code",
   "execution_count": null,
   "id": "176def4f",
   "metadata": {},
   "outputs": [],
   "source": [
    "# Hard margin SVM\n",
    "clf_hard = SVC(kernel='linear', C=1e10)\n",
    "clf_hard.fit(X_sub, y_sub)\n",
    "y_pred_hard = clf_hard.predict(X_sub)\n",
    "acc = accuracy_score(y_sub, y_pred_hard)\n",
    "prec = precision_score(y_sub, y_pred_hard)\n",
    "rec = recall_score(y_sub, y_pred_hard)\n",
    "print(f'Hard Margin -> Accuracy: {acc:.2f}, Precision: {prec:.2f}, Recall: {rec:.2f}')\n",
    "plot_svm(clf_hard, X_sub, y_sub, 'Hard Margin: Setosa vs Versicolor')"
   ]
  },
  {
   "cell_type": "code",
   "execution_count": null,
   "id": "9eb7f094",
   "metadata": {},
   "outputs": [],
   "source": [
    "# Soft margin SVM\n",
    "clf_soft = SVC(kernel='linear', C=0.1)\n",
    "clf_soft.fit(X_sub, y_sub)\n",
    "y_pred_soft = clf_soft.predict(X_sub)\n",
    "acc = accuracy_score(y_sub, y_pred_soft)\n",
    "prec = precision_score(y_sub, y_pred_soft)\n",
    "rec = recall_score(y_sub, y_pred_soft)\n",
    "print(f'Soft Margin -> Accuracy: {acc:.2f}, Precision: {prec:.2f}, Recall: {rec:.2f}')\n",
    "plot_svm(clf_soft, X_sub, y_sub, 'Soft Margin: Setosa vs Versicolor')"
   ]
  }
 ],
 "metadata": {},
 "nbformat": 4,
 "nbformat_minor": 5
}
