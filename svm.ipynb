import numpy as np
import matplotlib.pyplot as plt
from sklearn import datasets
from sklearn.svm import SVC
from sklearn.metrics import accuracy_score, precision_score, recall_score

iris = datasets.load_iris()
X = iris.data[:, :2]
y = iris.target

def plot_svm(clf, X, y, acc, prec, rec, title):
    plt.figure(figsize=(6,6))
    plt.scatter(X[:,0], X[:,1], c=y, cmap='bwr', edgecolors='k')
    ax = plt.gca()
    xlim = ax.get_xlim()
    ylim = ax.get_ylim()
    xx, yy = np.meshgrid(np.linspace(xlim[0], xlim[1], 200),
                         np.linspace(ylim[0], ylim[1], 200))
    Z = clf.decision_function(np.c_[xx.ravel(), yy.ravel()])
    Z = Z.reshape(xx.shape)
    ax.contour(xx, yy, Z, colors='k',
               levels=[-1, 0, 1], alpha=0.7,
               linestyles=['--', '-', '--'])
    ax.scatter(clf.support_vectors_[:, 0], clf.support_vectors_[:, 1],
               s=120, facecolors='none', edgecolors='k')
    plt.title(title)
    plt.xlabel(f"Accuracy: {acc:.2f}\nPrecision: {prec:.2f}\nRecall: {rec:.2f}", fontsize=12, labelpad=20)
    plt.show()

mask = y != 2
X_sub = X[mask]
y_sub = y[mask]
y_sub = np.where(y_sub == 0, -1, 1)

# Hard Margin SVM
hard_svm = SVC(kernel="linear", C=1e10)
hard_svm.fit(X_sub, y_sub)
pred_hard = hard_svm.predict(X_sub)
acc_hard = accuracy_score(y_sub, pred_hard)
prec_hard = precision_score(y_sub, pred_hard)
rec_hard = recall_score(y_sub, pred_hard)
plot_svm(hard_svm, X_sub, y_sub, acc_hard, prec_hard, rec_hard, "Hard Margin: Setosa vs Versicolor")

# Soft Margin SVM
soft_svm = SVC(kernel="linear", C=0.1)
soft_svm.fit(X_sub, y_sub)
pred_soft = soft_svm.predict(X_sub)
acc_soft = accuracy_score(y_sub, pred_soft)
prec_soft = precision_score(y_sub, pred_soft)
rec_soft = recall_score(y_sub, pred_soft)
plot_svm(soft_svm, X_sub, y_sub, acc_soft, prec_soft, rec_soft, "Soft Margin: Setosa vs Versicolor")

