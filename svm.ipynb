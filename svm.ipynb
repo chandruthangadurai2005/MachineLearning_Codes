{
 "cells": [
  {
   "cell_type": "code",
   "execution_count": null,
   "id": "6d747a9d-fe8a-4673-990f-ab76de1db424",
   "metadata": {},
   "outputs": [],
   "source": []
  }
 ],
 "metadata": {
  "kernelspec": {
   "display_name": "",
   "name": ""
  },
  "language_info": {
   "name": ""
  }
 },
 "nbformat": 4,
 "nbformat_minor": 5
}
