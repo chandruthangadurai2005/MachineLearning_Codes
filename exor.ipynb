{
 "cells": [
  {
   "cell_type": "code",
   "execution_count": 6,
   "id": "8aabbeaa-5811-49c8-b1de-08c4526fea27",
   "metadata": {},
   "outputs": [
    {
     "name": "stdout",
     "output_type": "stream",
     "text": [
      "\n",
      "XOR Gate Output after training:\n",
      "[0 0] => 0.0\n",
      "[0 1] => 1.0\n",
      "[1 0] => 1.0\n",
      "[1 1] => 0.0\n"
     ]
    }
   ],
   "source": [
    "import numpy as np\n",
    "\n",
    "def sigmoid(x):\n",
    "    return 1 / (1 + np.exp(-x))\n",
    "\n",
    "def sigmoid_derivative(x):\n",
    "    return x * (1 - x)\n",
    "\n",
    "# XOR Dataset\n",
    "X = np.array([[0,0],[0,1],[1,0],[1,1]])\n",
    "y = np.array([[0],[1],[1],[0]])\n",
    "\n",
    "np.random.seed(1)\n",
    "\n",
    "# Initialize weights and biases\n",
    "hidden_weights = np.random.uniform(-1, 1, (2, 2))\n",
    "hidden_bias = np.random.uniform(-1, 1, (1, 2))\n",
    "output_weights = np.random.uniform(-1, 1, (2, 1))\n",
    "output_bias = np.random.uniform(-1, 1, (1, 1))\n",
    "\n",
    "lr = 0.1\n",
    "epochs = 20000\n",
    "\n",
    "for _ in range(epochs):\n",
    "    # Forward pass\n",
    "    hidden_input = np.dot(X, hidden_weights) + hidden_bias\n",
    "    hidden_output = sigmoid(hidden_input)\n",
    "\n",
    "    final_input = np.dot(hidden_output, output_weights) + output_bias\n",
    "    final_output = sigmoid(final_input)\n",
    "\n",
    "    # Calculate error\n",
    "    error = y - final_output\n",
    "\n",
    "    # Backpropagation\n",
    "    d_output = error * sigmoid_derivative(final_output)\n",
    "\n",
    "    error_hidden = d_output.dot(output_weights.T)\n",
    "    d_hidden = error_hidden * sigmoid_derivative(hidden_output)\n",
    "\n",
    "    # Update weights and biases\n",
    "    output_weights += hidden_output.T.dot(d_output) * lr\n",
    "    output_bias += np.sum(d_output, axis=0, keepdims=True) * lr\n",
    "\n",
    "    hidden_weights += X.T.dot(d_hidden) * lr\n",
    "    hidden_bias += np.sum(d_hidden, axis=0, keepdims=True) * lr\n",
    "\n",
    "print(\"\\nXOR Gate Output after training:\")\n",
    "for i in range(4):\n",
    "    print(f\"{X[i]} => {np.round(final_output[i][0])}\")\n"
   ]
  },
  {
   "cell_type": "code",
   "execution_count": null,
   "id": "a861398e-ab40-4caa-9d1b-2e99f06e051b",
   "metadata": {},
   "outputs": [],
   "source": []
  }
 ],
 "metadata": {
  "kernelspec": {
   "display_name": "Python 3 (ipykernel)",
   "language": "python",
   "name": "python3"
  },
  "language_info": {
   "codemirror_mode": {
    "name": "ipython",
    "version": 3
   },
   "file_extension": ".py",
   "mimetype": "text/x-python",
   "name": "python",
   "nbconvert_exporter": "python",
   "pygments_lexer": "ipython3",
   "version": "3.12.3"
  }
 },
 "nbformat": 4,
 "nbformat_minor": 5
}
