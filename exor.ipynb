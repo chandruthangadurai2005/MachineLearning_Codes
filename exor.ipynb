{
 "cells": [
  {
   "cell_type": "code",
   "execution_count": 1,
   "id": "cb8ad122",
   "metadata": {},
   "outputs": [
    {
     "name": "stdout",
     "output_type": "stream",
     "text": [
      "\n",
      "XOR Gate Output:\n",
      "[0 0] => 0.0\n",
      "[0 1] => 1.0\n",
      "[1 0] => 1.0\n",
      "[1 1] => 1.0\n"
     ]
    }
   ],
   "source": [
    "import numpy as np\n",
    "\n",
    "def sigmoid(x):\n",
    "    return 1 / (1 + np.exp(-x))\n",
    "\n",
    "def sigmoid_derivative(x):\n",
    "    return x * (1 - x)\n",
    "\n",
    "# XOR Dataset\n",
    "X = np.array([[0,0],[0,1],[1,0],[1,1]])\n",
    "y = np.array([[0],[1],[1],[0]])\n",
    "\n",
    "# Architecture: 2 input -> 2 hidden -> 1 output\n",
    "np.random.seed(1)\n",
    "input_layer = X\n",
    "hidden_weights = np.random.uniform(-1, 1, (2, 2))\n",
    "output_weights = np.random.uniform(-1, 1, (2, 1))\n",
    "\n",
    "lr = 0.5\n",
    "epochs = 10000\n",
    "\n",
    "for _ in range(epochs):\n",
    "    # Forward\n",
    "    hidden_input = np.dot(input_layer, hidden_weights)\n",
    "    hidden_output = sigmoid(hidden_input)\n",
    "\n",
    "    final_input = np.dot(hidden_output, output_weights)\n",
    "    final_output = sigmoid(final_input)\n",
    "\n",
    "    # Backpropagation\n",
    "    error = y - final_output\n",
    "    d_output = error * sigmoid_derivative(final_output)\n",
    "\n",
    "    error_hidden = d_output.dot(output_weights.T)\n",
    "    d_hidden = error_hidden * sigmoid_derivative(hidden_output)\n",
    "\n",
    "    # Weight update\n",
    "    output_weights += hidden_output.T.dot(d_output) * lr\n",
    "    hidden_weights += input_layer.T.dot(d_hidden) * lr\n",
    "\n",
    "# Results\n",
    "print(\"\\nXOR Gate Output:\")\n",
    "for i in range(4):\n",
    "    print(f\"{X[i]} => {np.round(final_output[i][0])}\")\n"
   ]
  }
 ],
 "metadata": {
  "kernelspec": {
   "display_name": ".venv",
   "language": "python",
   "name": "python3"
  },
  "language_info": {
   "codemirror_mode": {
    "name": "ipython",
    "version": 3
   },
   "file_extension": ".py",
   "mimetype": "text/x-python",
   "name": "python",
   "nbconvert_exporter": "python",
   "pygments_lexer": "ipython3",
   "version": "3.12.6"
  }
 },
 "nbformat": 4,
 "nbformat_minor": 5
}
